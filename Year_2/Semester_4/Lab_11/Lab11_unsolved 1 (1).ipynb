{
 "cells": [
  {
   "cell_type": "markdown",
   "metadata": {},
   "source": [
    "# Lab 11: Evolutionary computation\n",
    "\n",
    "### Consider the following example:\n",
    "\n",
    "Determine the minimum of the function $f(x)= x_1^2+...+x_n^2$ with $x_i \\in [-5.12, 5.12]$, $i \\in \\overline{(1, n)}$\n",
    "\n",
    "We have an example of steady state genetic algorithm with:  representation an array of real numbers; 100 individuals; crossover $$child = \\alpha \\cdot (parent1 - parent2) + parent2 ;$$ mutation - reinitialise on a random position the individual's value."
   ]
  },
  {
   "cell_type": "code",
   "execution_count": 4,
   "metadata": {},
   "outputs": [
    {
     "name": "stdout",
     "output_type": "stream",
     "text": [
      "Result: The detected minimum point after 10000 iterations is f(0.00 0.00) = 0.00\n"
     ]
    }
   ],
   "source": [
    "\n",
    "\n",
    "from random import randint, random\n",
    "from operator import add\n",
    "from math import cos, pi\n",
    "\n",
    "\n",
    "def individual(length, vmin, vmax):\n",
    "    '''\n",
    "    Create a member of the population - an individual\n",
    "\n",
    "    length: the number of genes (components)\n",
    "    vmin: the minimum possible value \n",
    "    vmax: the maximum possible value \n",
    "    '''\n",
    "    return [ (random()*(vmax-vmin)+vmin) for x in range(length) ]\n",
    "    \n",
    "def population(count, length, vmin, vmax):\n",
    "    \"\"\"\n",
    "    Create a number of individuals (i.e. a population).\n",
    "\n",
    "    count: the number of individuals in the population\n",
    "    length: the number of values per individual\n",
    "    vmin: the minimum possible value \n",
    "    vmax: the maximum possible value \n",
    "    \"\"\"\n",
    "    return [ individual(length, vmin, vmax) for x in range(count) ]\n",
    "\n",
    "def fitness(individual):\n",
    "    \"\"\"\n",
    "    Determine the fitness of an individual. Lower is better.(min problem)\n",
    "    For this problem we have the Rastrigin function\n",
    "    \n",
    "    individual: the individual to evaluate\n",
    "    \"\"\"\n",
    "    n=len(individual)\n",
    "    f=0;\n",
    "    for i in range(n):\n",
    "        f=f+individual[i]*individual[i]\n",
    "    return f\n",
    "    \n",
    "def mutate(individual, pM, vmin, vmax): \n",
    "    '''\n",
    "    Performs a mutation on an individual with the probability of pM.\n",
    "    If the event will take place, at a random position a new value will be\n",
    "    generated in the interval [vmin, vmax]\n",
    "\n",
    "    individual:the individual to be mutated\n",
    "    pM: the probability the mutation to occure\n",
    "    vmin: the minimum possible value \n",
    "    vmax: the maximum possible value\n",
    "    '''\n",
    "    if pM > random():\n",
    "            p = randint(0, len(individual)-1)\n",
    "            individual[p] = random()*(vmax-vmin)+vmin\n",
    "    return individual\n",
    "    \n",
    "def crossover(parent1, parent2):\n",
    "    '''\n",
    "    crossover between 2 parents\n",
    "    '''\n",
    "    child=[]\n",
    "    alpha=random()\n",
    "    for x in range(len(parent1)):\n",
    "        child.append(alpha*(parent1[x]-parent2[x])+parent2[x])\n",
    "    return child\n",
    "\n",
    "def iteration(pop, pM, vmin, vmax):\n",
    "    '''\n",
    "    an iteration\n",
    "\n",
    "    pop: the current population\n",
    "    pM: the probability the mutation to occure\n",
    "    vmin: the minimum possible value \n",
    "    vmax: the maximum possible value\n",
    "    '''\n",
    "    i1=randint(0,len(pop)-1)\n",
    "    i2=randint(0,len(pop)-1)\n",
    "    if (i1!=i2):\n",
    "        c=crossover(pop[i1],pop[i2])\n",
    "        c=mutate(c, pM, vmin, vmax)\n",
    "        f1=fitness(pop[i1])\n",
    "        f2=fitness(pop[i2])\n",
    "        '''\n",
    "        the repeated evaluation of the parents can be avoided\n",
    "        if  next to the values stored in the individuals we \n",
    "        keep also their fitnesses \n",
    "        '''\n",
    "        fc=fitness(c)\n",
    "        if(f1>f2) and (f1>fc):\n",
    "            pop[i1]=c\n",
    "        if(f2>f1) and (f2>fc):\n",
    "            pop[i2]=c\n",
    "    return pop\n",
    "\n",
    "def main(noIteratii=10000):\n",
    "    #PARAMETERS:\n",
    "    \n",
    "    #population size\n",
    "    dimPopulation = 100\n",
    "    #individual size\n",
    "    dimIndividual = 2\n",
    "    #the boundries of the search interval\n",
    "    vmin = -5.12\n",
    "    vmax = 5.12\n",
    "    #the mutation probability\n",
    "    pM=0.01\n",
    "    \n",
    "    P = population(dimPopulation, dimIndividual, vmin, vmax)\n",
    "    for i in range(noIteratii):\n",
    "        P = iteration(P, pM, vmin, vmax)\n",
    "\n",
    "    #print the best individual\n",
    "    graded = [ (fitness(x), x) for x in P]\n",
    "    graded =  sorted(graded)\n",
    "    result=graded[0]\n",
    "    fitnessOptim=result[0]\n",
    "    individualOptim=result[1]\n",
    "    print('Result: The detected minimum point after %d iterations is f(%3.2f %3.2f) = %3.2f'% \\\n",
    "          (noIteratii,individualOptim[0],individualOptim[1], fitnessOptim) )\n",
    "        \n",
    "main()"
   ]
  },
  {
   "cell_type": "markdown",
   "metadata": {},
   "source": [
    "Exercise 1:  Construct a similar algorithm to the one provided as an example for the Bukin function N.6 (see previous lab for this function).\n"
   ]
  },
  {
   "cell_type": "code",
   "execution_count": 14,
   "metadata": {},
   "outputs": [
    {
     "name": "stdout",
     "output_type": "stream",
     "text": [
      "Result: The detected minimum point after 10000 iterations is f(-9.76, 0.95) = 0.37\n"
     ]
    }
   ],
   "source": [
    "# your code here\n",
    "\n",
    "from random import uniform, random\n",
    "from operator import add\n",
    "from math import sqrt, fabs\n",
    "\n",
    "def individual():\n",
    "    '''\n",
    "    Create an individual for the Bukin function optimization.\n",
    "\n",
    "    Each individual is a tuple (x, y) where -15 <= x <= -5 and -3 <= y <= 3.\n",
    "    '''\n",
    "    return (uniform(-15, -5), uniform(-3, 3))\n",
    "    \n",
    "def population(count):\n",
    "    \"\"\"\n",
    "    Create a population for the Bukin function optimization.\n",
    "\n",
    "    count: the number of individuals in the population\n",
    "    \"\"\"\n",
    "    return [individual() for _ in range(count)]\n",
    "\n",
    "def fitness(individual):\n",
    "    \"\"\"\n",
    "    Determine the fitness of an individual for the Bukin function optimization.\n",
    "    Lower is better (minimization problem).\n",
    "\n",
    "    individual: the individual to evaluate\n",
    "    \"\"\"\n",
    "    x, y = individual\n",
    "    return 100 * fabs(y - 0.01 * x**2)**0.5 + 0.01 * fabs(x + 10)\n",
    "\n",
    "def mutate(individual, mutation_probability):\n",
    "    '''\n",
    "    Perform mutation on an individual for the Bukin function optimization.\n",
    "    Randomly change the values of x and y within their valid ranges.\n",
    "\n",
    "    individual: the individual to be mutated\n",
    "    '''\n",
    "    x, y = individual\n",
    "    if random() < mutation_probability:\n",
    "        x = uniform(-15, -5)\n",
    "    else:\n",
    "        y = uniform(-3, 3)\n",
    "    return (x, y)\n",
    "    \n",
    "def crossover(parent1, parent2):\n",
    "    '''\n",
    "    Perform crossover between two parents for the Bukin function optimization.\n",
    "    Take the average values of x and y to create a new child.\n",
    "\n",
    "    parent1: the first parent\n",
    "    parent2: the second parent\n",
    "    '''\n",
    "    x1, y1 = parent1\n",
    "    x2, y2 = parent2\n",
    "    child_x = (x1 + x2) / 2\n",
    "    child_y = (y1 + y2) / 2\n",
    "    return (child_x, child_y)\n",
    "\n",
    "def iteration(population, mutation_probability):\n",
    "    '''\n",
    "    Perform a single iteration of the genetic algorithm for the Bukin function optimization.\n",
    "\n",
    "    population: the current population\n",
    "    '''\n",
    "    i1 = randint(0, len(population) - 1)\n",
    "    i2 = randint(0, len(population) - 1)\n",
    "    while i1 == i2:\n",
    "        i2 = randint(0, len(population) - 1)\n",
    "\n",
    "    parent1 = population[i1]\n",
    "    parent2 = population[i2]\n",
    "    child = crossover(parent1, parent2)\n",
    "    child = mutate(child, mutation_probability)\n",
    "\n",
    "    f_parent1 = fitness(parent1)\n",
    "    f_parent2 = fitness(parent2)\n",
    "    f_child = fitness(child)\n",
    "\n",
    "    if f_child < f_parent1 and f_parent1 > f_parent2:\n",
    "        population[i1] = child\n",
    "    elif f_child < f_parent2 and f_parent2 > f_parent1:\n",
    "        population[i2] = child\n",
    "\n",
    "    return population\n",
    "\n",
    "def main(num_iterations=10000):\n",
    "    '''\n",
    "    Main function to run the genetic algorithm for the Bukin function optimization.\n",
    "\n",
    "    num_iterations: the number of iterations to perform\n",
    "    '''\n",
    "    population_size = 100\n",
    "    mutation_probability = 0.01\n",
    "\n",
    "    pop = population(population_size)\n",
    "    for _ in range(num_iterations):\n",
    "        pop = iteration(pop, mutation_probability)\n",
    "\n",
    "    best_individual = min(pop, key=fitness)\n",
    "    fitness_optim = fitness(best_individual)\n",
    "    x_optim, y_optim = best_individual\n",
    "    print(f\"Result: The detected minimum point after {num_iterations} iterations is f({x_optim:.2f}, {y_optim:.2f}) = {fitness_optim:.2f}\")\n",
    "\n",
    "main()\n"
   ]
  },
  {
   "cell_type": "markdown",
   "metadata": {},
   "source": [
    "Consider the knapsack problem:\n",
    "\n",
    "Consider a Knapsack with a total volum equal with $V_{max}$.\n",
    "\n",
    "There are $n$ objects, with values $(p_i)_{n}$ and volumes $(v_i)_n$.\n",
    "\n",
    "Solve this problem using a generationist Genetic Algorithm, with a binary representation.\n",
    "\n",
    "Exercise 2: Initialization\n",
    "Objective: Implement the initialization step of a genetic algorithm."
   ]
  },
  {
   "cell_type": "code",
   "execution_count": 26,
   "metadata": {},
   "outputs": [
    {
     "name": "stdout",
     "output_type": "stream",
     "text": [
      "[[0, 1, 0, 0, 0, 0, 1, 1], [1, 1, 0, 1, 1, 1, 0, 1], [1, 0, 1, 1, 0, 1, 0, 1], [1, 1, 1, 0, 0, 1, 0, 1], [0, 0, 0, 0, 0, 1, 1, 0], [1, 0, 1, 0, 0, 1, 1, 0], [1, 1, 1, 0, 0, 1, 1, 1], [0, 1, 1, 1, 0, 0, 0, 0], [1, 0, 0, 0, 1, 1, 1, 1], [1, 1, 0, 0, 0, 0, 1, 1]]\n"
     ]
    }
   ],
   "source": [
    "import random\n",
    "\n",
    "def initialize_population(population_size, chromosome_length):\n",
    "    # generate random a population with population_size number of individuals\n",
    "    # each individual with the size chromosome_length\n",
    "    # IN:  population_size, chromosome_length\n",
    "    # OUT: population\n",
    "    \n",
    "    # your code here\n",
    "    population = []\n",
    "    for _ in range(population_size):\n",
    "        individual = [random.randint(0, 1) for _ in range(chromosome_length)]\n",
    "        population.append(individual)\n",
    "    return population\n",
    "\n",
    "\n",
    "\n",
    "# Test the initialization step\n",
    "population_size = 10\n",
    "chromosome_length = 8\n",
    "population = initialize_population(population_size, chromosome_length)\n",
    "print(population)\n"
   ]
  },
  {
   "cell_type": "markdown",
   "metadata": {},
   "source": [
    "Exercise 3: Fitness Evaluation\n",
    "\n",
    "Objective: Implement the fitness evaluation step of a genetic algorithm."
   ]
  },
  {
   "cell_type": "code",
   "execution_count": 27,
   "metadata": {},
   "outputs": [
    {
     "name": "stdout",
     "output_type": "stream",
     "text": [
      "[13, 0, 0, 15, 10, 18, 0, 14, 0, 18]\n"
     ]
    }
   ],
   "source": [
    "def evaluate_fitness(population):\n",
    "    # evaluate the fitness of each individual in the population\n",
    "    # IN:  population\n",
    "    # OUT: fitness_scores\n",
    "\n",
    "    # your code here\n",
    "    values = [5, 4, 3, 7, 6, 2, 8, 1]\n",
    "    volumes = [3, 2, 1, 4, 5, 2, 3, 1]\n",
    "    max_volume = 10\n",
    "\n",
    "    fitness_scores = []\n",
    "    for individual in population:\n",
    "        total_value = 0\n",
    "        total_volume = 0\n",
    "        for i in range(len(individual)):\n",
    "            if individual[i] == 1:\n",
    "                total_value += values[i]\n",
    "                total_volume += volumes[i]\n",
    "        if total_volume > max_volume:\n",
    "            fitness_scores.append(0)  # invalid solution\n",
    "        else:\n",
    "            fitness_scores.append(total_value)\n",
    "    return fitness_scores\n",
    "    \n",
    "# Test the fitness evaluation step\n",
    "fitness_scores = evaluate_fitness(population)\n",
    "print(fitness_scores)\n"
   ]
  },
  {
   "cell_type": "markdown",
   "metadata": {},
   "source": [
    "Exercise 4: Selection\n",
    "\n",
    "Objective: Implement the selection step of a genetic algorithm."
   ]
  },
  {
   "cell_type": "code",
   "execution_count": 30,
   "metadata": {},
   "outputs": [
    {
     "name": "stdout",
     "output_type": "stream",
     "text": [
      "[[0, 0, 0, 0, 0, 1, 1, 0], [1, 0, 1, 0, 0, 1, 1, 0]]\n"
     ]
    }
   ],
   "source": [
    "def select_parents(population, fitness_scores):\n",
    "    # select two parents from the population based on the fitness - \n",
    "    # the better the fitness, the higher the chance to be selected\n",
    "    # IN:  population, fitness_scores\n",
    "    # OUT: selected_parents\n",
    "\n",
    "    # your code here\n",
    "    \n",
    "    # Roulette wheel selection\n",
    "    total_fitness = sum(fitness_scores)\n",
    "    probabilities = [score / total_fitness for score in fitness_scores]\n",
    "    selected_parents = random.choices(population, weights=probabilities, k=2)\n",
    "    \n",
    "    return selected_parents\n",
    "\n",
    "# Test the selection step\n",
    "parents = select_parents(population, fitness_scores)\n",
    "print(parents)\n"
   ]
  },
  {
   "cell_type": "markdown",
   "metadata": {},
   "source": [
    "Exercise 5: Crossover\n",
    "\n",
    "Objective: Implement the crossover step of a genetic algorithm."
   ]
  },
  {
   "cell_type": "code",
   "execution_count": 32,
   "metadata": {},
   "outputs": [
    {
     "name": "stdout",
     "output_type": "stream",
     "text": [
      "[[0, 0, 1, 0, 0, 1, 1, 0], [1, 0, 0, 0, 0, 1, 1, 0]]\n"
     ]
    }
   ],
   "source": [
    "def crossover(parents):\n",
    "    # create two new offspring by combining the parents\n",
    "    # IN:  parents\n",
    "    # OUT: offspring\n",
    "\n",
    "    # your code here\n",
    "    parent1, parent2 = parents\n",
    "    crossover_point = random.randint(0, len(parent1)-1)\n",
    "    offspring1 = parent1[:crossover_point] + parent2[crossover_point:]\n",
    "    offspring2 = parent2[:crossover_point] + parent1[crossover_point:]\n",
    "    return [offspring1, offspring2]\n",
    "\n",
    "# Test the crossover step\n",
    "offspring = crossover(parents)\n",
    "print(offspring)\n"
   ]
  },
  {
   "cell_type": "markdown",
   "metadata": {},
   "source": [
    "Exercise 6: Mutation\n",
    "\n",
    "Objective: Implement the mutation step of a genetic algorithm."
   ]
  },
  {
   "cell_type": "code",
   "execution_count": 33,
   "metadata": {},
   "outputs": [
    {
     "name": "stdout",
     "output_type": "stream",
     "text": [
      "[[1, 0, 1, 0, 0, 1, 1, 0], [1, 0, 0, 0, 0, 1, 1, 0]]\n"
     ]
    }
   ],
   "source": [
    "def mutate(chromosome, mutation_rate):\n",
    "    # mutate the chromosome by randomly flipping bits\n",
    "    # IN:  chromosome, mutation_rate\n",
    "    # OUT: mutated_chromosome\n",
    "\n",
    "    # your code here\n",
    "    mutated_chromosome = []\n",
    "    for gene in chromosome:\n",
    "        if random.random() < mutation_rate:\n",
    "            mutated_chromosome.append(1-gene)\n",
    "        else:\n",
    "            mutated_chromosome.append(gene)\n",
    "    return mutated_chromosome\n",
    "\n",
    "# Test the mutation step\n",
    "mutation_rate = 0.1\n",
    "mutated_offspring = [mutate(child, mutation_rate) for child in offspring]\n",
    "print(mutated_offspring)\n"
   ]
  },
  {
   "cell_type": "markdown",
   "metadata": {},
   "source": [
    "Exercise 7: Complete Genetic Algorithm\n",
    "\n",
    "Objective: Combine all the steps of a genetic algorithm to solve a specific problem."
   ]
  },
  {
   "cell_type": "code",
   "execution_count": 34,
   "metadata": {},
   "outputs": [
    {
     "name": "stdout",
     "output_type": "stream",
     "text": [
      "[[1, 0, 0, 1, 1, 1, 1, 1], [0, 0, 1, 1, 0, 1, 1, 0], [1, 1, 0, 1, 0, 0, 1, 1], [1, 1, 1, 0, 1, 1, 1, 0], [1, 0, 0, 1, 1, 1, 1, 1], [0, 0, 1, 1, 1, 0, 0, 0], [0, 0, 1, 0, 0, 0, 1, 1], [1, 0, 0, 1, 1, 1, 1, 1], [0, 0, 1, 1, 0, 1, 1, 1], [0, 0, 1, 0, 0, 0, 0, 0]]\n"
     ]
    }
   ],
   "source": [
    "def genetic_algorithm(population_size, chromosome_length, generations, mutation_rate):\n",
    "    \n",
    "    # complete genetic algorithm\n",
    "    # IN:  population_size, chromosome_length, generations, mutation_rate\n",
    "    # OUT: population\n",
    "\n",
    "\n",
    "    # initialize the population\n",
    "    # your code here\n",
    "    population = initialize_population(population_size, chromosome_length)\n",
    "\n",
    "    for _ in range(generations):\n",
    "        # Fitness evaluation\n",
    "        # your code here\n",
    "        fitness_scores = evaluate_fitness(population)\n",
    "        \n",
    "        # Selection\n",
    "        # your code here\n",
    "        parents = select_parents(population, fitness_scores)\n",
    "\n",
    "        # Crossover\n",
    "        # your code here\n",
    "        offspring = crossover(parents)\n",
    "\n",
    "        # Mutation\n",
    "        # your code here\n",
    "        mutated_offspring = [mutate(child, mutation_rate) for child in offspring]\n",
    "\n",
    "        # Replace the population with the new generation\n",
    "        # your code here\n",
    "        population = population[:population_size - len(mutated_offspring)] + mutated_offspring\n",
    "\n",
    "    return population\n",
    "\n",
    "# Test the complete genetic algorithm\n",
    "population_size = 10\n",
    "chromosome_length = 8\n",
    "generations = 100\n",
    "mutation_rate = 0.1\n",
    "\n",
    "final_population = genetic_algorithm(population_size, chromosome_length, generations, mutation_rate)\n",
    "print(final_population)\n"
   ]
  },
  {
   "cell_type": "markdown",
   "metadata": {},
   "source": [
    "Exercise 8: Extract the result from the final population\n",
    "\n",
    "Objective: Get the best individual from the final population.\n"
   ]
  },
  {
   "cell_type": "code",
   "execution_count": 42,
   "metadata": {},
   "outputs": [
    {
     "name": "stdout",
     "output_type": "stream",
     "text": [
      "Best individual: [0, 0, 1, 1, 0, 1, 1, 0]\n"
     ]
    }
   ],
   "source": [
    "# determine the best individual from the final population and print it out\n",
    "\n",
    "# your code here\n",
    "\n",
    "def get_best_individual(population):\n",
    "    \"\"\"\n",
    "    Get the best individual from the population based on fitness scores.\n",
    "\n",
    "    population: the final population\n",
    "\n",
    "    Returns:\n",
    "    best_individual: the individual with the highest fitness score\n",
    "    \"\"\"\n",
    "\n",
    "    fitness_scores = evaluate_fitness(population)\n",
    "    best_index = fitness_scores.index(max(fitness_scores))\n",
    "    best_individual = population[best_index]\n",
    "\n",
    "    return best_individual\n",
    "\n",
    "# Test extracting the best individual from the final population\n",
    "best_individual = get_best_individual(final_population)\n",
    "print(\"Best individual: \" + str(best_individual))"
   ]
  },
  {
   "cell_type": "code",
   "execution_count": null,
   "metadata": {},
   "outputs": [],
   "source": []
  }
 ],
 "metadata": {
  "kernel_info": {
   "name": "python"
  },
  "kernelspec": {
   "display_name": "Python 3 (ipykernel)",
   "language": "python",
   "name": "python3"
  },
  "language_info": {
   "codemirror_mode": {
    "name": "ipython",
    "version": 3
   },
   "file_extension": ".py",
   "mimetype": "text/x-python",
   "name": "python",
   "nbconvert_exporter": "python",
   "pygments_lexer": "ipython3",
   "version": "3.9.16"
  },
  "nteract": {
   "version": "nteract-front-end@1.0.0"
  }
 },
 "nbformat": 4,
 "nbformat_minor": 2
}
