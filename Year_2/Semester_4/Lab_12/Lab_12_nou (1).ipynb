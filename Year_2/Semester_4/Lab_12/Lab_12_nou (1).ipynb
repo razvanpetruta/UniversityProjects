{
 "cells": [
  {
   "cell_type": "markdown",
   "metadata": {},
   "source": [
    "## Lab. 12\n",
    "\n",
    "### Solve the following problem using Genetic Algorithms:\n",
    "\n",
    "\n",
    "Problem: Weighted N-Queen Problem\n",
    "\n",
    "\n",
    "You are given an N×N chessboard, and each cell of the board has an associated weight. Your task is to find a valid placement of N queens such that the total weight of the queens is maximized, and no two queens threaten each other.\n",
    "\n"
   ]
  },
  {
   "cell_type": "markdown",
   "metadata": {},
   "source": [
    "\n",
    "\n",
    "In the traditional N-Queen Problem, the goal is to place N queens on an N×N chessboard in such a way that no two queens threaten each other. In this variation, we introduce weights to the queens and aim to find a placement that maximizes the total weight of the queens while satisfying the constraint of non-threatening positions.\n",
    "\n",
    "\n",
    "Constraints:\n",
    "\n",
    "1. There should be exactly one queen in each row and each column.\n",
    "2. No two queens should be placed in the same diagonal, i.e., they should not threaten each other.\n",
    "3. The placement should maximize the total weight of the queens.\n",
    "\n",
    "\n",
    "Representation:\n",
    "\n",
    "Use a permutation-based representation. Each permutation represents the column position of the queen for each row. \n",
    "\n",
    "For example, if N=4, a valid permutation [2, 4, 1, 3] indicates that the queen in the first row is placed in column 2, the queen in the second row is placed in column 4, and so on.\n",
    "\n",
    "\n",
    "Genetic Algorithm Steps:\n",
    "\n",
    "1. *Initialization*: Generate an initial population of permutations randomly.\n",
    "\n",
    "2. *Fitness Evaluation*: Evaluate the fitness of each permutation by calculating the total weight of the queens while considering the non-threatening positions.\n",
    "\n",
    "3. *Selection*: Select a subset of permutations from the population based on their fitness, using selection techniques like tournament selection or roulette wheel selection.\n",
    "\n",
    "4. *Crossover*: Perform crossover (recombination) on the selected permutations to create new offspring permutations.\n",
    "\n",
    "5. *Mutation*: Introduce random changes (mutations) in the offspring permutations to maintain diversity in the population.\n",
    "\n",
    "6. *Fitness Evaluation for the new individuals*: Evaluate the fitness of the new population.\n",
    "\n",
    "7. *Form the new population*: Select the surviving individuals based on scores, with chances direct proportional with their performance.\n",
    "\n",
    "8. Repeat steps 3-7 for a certain number of generations or until a termination condition is met (e.g., a maximum number of iterations or a satisfactory solution is found).\n",
    "\n",
    "\n",
    "9. *Termination*: Return the best-performing individual (permutation) found as the solution to the problem.\n",
    "\n",
    "Note: The fitness function used in this problem should calculate the total weight of the queens based on the positions specified by the permutation. Additionally, the fitness function should penalize solutions that violate the non-threatening constraint by assigning a lower fitness score to such permutations."
   ]
  },
  {
   "cell_type": "code",
   "execution_count": 1,
   "metadata": {},
   "outputs": [
    {
     "name": "stdout",
     "output_type": "stream",
     "text": [
      "Permutation 1: [1, 3, 2, 4]\n",
      "Permutation 2: [2, 4, 3, 1]\n",
      "Permutation 3: [3, 1, 2, 4]\n",
      "Permutation 4: [4, 1, 2, 3]\n",
      "Permutation 5: [3, 4, 2, 1]\n",
      "Permutation 6: [4, 2, 1, 3]\n",
      "Permutation 7: [3, 4, 1, 2]\n",
      "Permutation 8: [3, 2, 4, 1]\n",
      "Permutation 9: [4, 1, 3, 2]\n",
      "Permutation 10: [4, 1, 2, 3]\n",
      "Permutation 11: [3, 1, 4, 2]\n",
      "Permutation 12: [4, 3, 1, 2]\n",
      "Permutation 13: [3, 2, 1, 4]\n",
      "Permutation 14: [2, 3, 1, 4]\n",
      "Permutation 15: [2, 4, 1, 3]\n",
      "Permutation 16: [2, 1, 4, 3]\n"
     ]
    }
   ],
   "source": [
    "# 1. Initialization\n",
    "\n",
    "import random\n",
    "\n",
    "def generate_initial_population(population_size, N):\n",
    "    population = []\n",
    "    for _ in range(population_size):\n",
    "        permutation = list(range(1, N + 1))\n",
    "        random.shuffle(permutation)\n",
    "        population.append(permutation)\n",
    "    return population\n",
    "\n",
    "population_size = 16\n",
    "N = 4\n",
    "\n",
    "initial_population = generate_initial_population(population_size, N)\n",
    "\n",
    "for i, permutation in enumerate(initial_population):\n",
    "    print(f\"Permutation {i + 1}: {permutation}\")"
   ]
  },
  {
   "cell_type": "code",
   "execution_count": 2,
   "metadata": {},
   "outputs": [
    {
     "name": "stdout",
     "output_type": "stream",
     "text": [
      "Permutation 1 Fitness: 7\n",
      "Permutation 2 Fitness: 4\n",
      "Permutation 3 Fitness: 11\n",
      "Permutation 4 Fitness: 0\n",
      "Permutation 5 Fitness: 3\n",
      "Permutation 6 Fitness: 10\n",
      "Permutation 7 Fitness: -2\n",
      "Permutation 8 Fitness: 6\n",
      "Permutation 9 Fitness: 8\n",
      "Permutation 10 Fitness: 0\n",
      "Permutation 11 Fitness: 10\n",
      "Permutation 12 Fitness: 3\n",
      "Permutation 13 Fitness: 0\n",
      "Permutation 14 Fitness: 9\n",
      "Permutation 15 Fitness: 10\n",
      "Permutation 16 Fitness: 2\n"
     ]
    }
   ],
   "source": [
    "# 2. Fitness evaluation\n",
    "\n",
    "weights = [[2, 1, 4, 3],\n",
    "           [3, 4, 1, 2],\n",
    "           [4, 3, 2, 1],\n",
    "           [1, 2, 3, 4]]\n",
    "\n",
    "def calculate_fitness(permutation, weights):\n",
    "    fitness = 0\n",
    "    N = len(permutation)\n",
    "    for i in range(N):\n",
    "        queen_column = permutation[i] - 1\n",
    "        fitness += weights[i][queen_column]\n",
    "        for j in range(i + 1, N):\n",
    "            if abs(queen_column - (permutation[j] - 1)) == abs(i - j):\n",
    "                fitness -= weights[i][queen_column]  # Penalize threatening positions\n",
    "            if permutation[i] == permutation[j]:\n",
    "                fitness -= weights[i][queen_column]\n",
    "    return fitness\n",
    "\n",
    "fitness_values = []\n",
    "for permutation in initial_population:\n",
    "    fitness = calculate_fitness(permutation, weights)\n",
    "    fitness_values.append(fitness)\n",
    "    \n",
    "for i, fitness in enumerate(fitness_values):\n",
    "    print(f\"Permutation {i+1} Fitness: {fitness}\")"
   ]
  },
  {
   "cell_type": "code",
   "execution_count": 3,
   "metadata": {},
   "outputs": [
    {
     "name": "stdout",
     "output_type": "stream",
     "text": [
      "[[3, 4, 2, 1], [4, 1, 3, 2], [4, 1, 3, 2], [4, 2, 1, 3], [2, 3, 1, 4], [3, 1, 4, 2], [3, 2, 4, 1], [4, 2, 1, 3], [4, 1, 3, 2], [1, 3, 2, 4], [3, 1, 2, 4], [1, 3, 2, 4], [2, 4, 1, 3], [4, 1, 3, 2], [2, 3, 1, 4], [2, 4, 1, 3]]\n"
     ]
    }
   ],
   "source": [
    "# 3. Selection\n",
    "\n",
    "# Roulette wheel selection assigns probabilities to each permutation based on their fitness, \n",
    "# and individuals are selected probabilistically.\n",
    "def roulette_selection(population, fitness_values, roulette_size):\n",
    "    total_fitness = sum(fitness_values)\n",
    "    probabilities = [fitness / total_fitness for fitness in fitness_values]\n",
    "    selected_population = random.choices(population, weights=probabilities, k=roulette_size)\n",
    "    return selected_population\n",
    "\n",
    "roulette_size = 16\n",
    "\n",
    "selected_population = roulette_selection(initial_population, fitness_values, roulette_size)\n",
    "\n",
    "print(selected_population)"
   ]
  },
  {
   "cell_type": "code",
   "execution_count": 4,
   "metadata": {},
   "outputs": [
    {
     "name": "stdout",
     "output_type": "stream",
     "text": [
      "[[3, 4, 3, 2], [4, 1, 2, 1], [4, 1, 1, 3], [4, 2, 3, 2], [2, 3, 4, 2], [3, 1, 1, 4], [3, 2, 1, 3], [4, 2, 4, 1], [4, 1, 2, 4], [1, 3, 3, 2], [3, 1, 2, 4], [1, 3, 2, 4], [2, 1, 3, 2], [4, 4, 1, 3], [2, 3, 1, 3], [2, 4, 1, 4]]\n"
     ]
    }
   ],
   "source": [
    "# 4. Crossover\n",
    "\n",
    "def crossover(parent1, parent2):\n",
    "    N = len(parent1)\n",
    "    crossover_point = random.randint(1, N - 1)\n",
    "    child1 = parent1[:crossover_point] + parent2[crossover_point:]\n",
    "    child2 = parent2[:crossover_point] + parent1[crossover_point:]\n",
    "    return child1, child2\n",
    "\n",
    "offspring_population = []\n",
    "for i in range(0, len(selected_population), 2):\n",
    "    parent1 = selected_population[i]\n",
    "    parent2 = selected_population[i + 1]\n",
    "    child1, child2 = crossover(parent1, parent2)\n",
    "    offspring_population.extend([child1, child2])\n",
    "    \n",
    "print(offspring_population)"
   ]
  },
  {
   "cell_type": "code",
   "execution_count": 5,
   "metadata": {},
   "outputs": [
    {
     "name": "stdout",
     "output_type": "stream",
     "text": [
      "[[3, 4, 3, 2], [4, 1, 2, 1], [4, 1, 1, 3], [4, 2, 3, 2], [2, 3, 4, 2], [3, 1, 1, 4], [3, 2, 1, 3], [4, 2, 4, 1], [4, 1, 2, 4], [1, 3, 3, 2], [3, 1, 2, 4], [1, 3, 2, 4], [2, 1, 3, 2], [4, 4, 1, 3], [2, 3, 1, 3], [2, 4, 1, 4]]\n"
     ]
    }
   ],
   "source": [
    "# 5. Mutation: \n",
    "\n",
    "def mutation(offspring_population, mutation_rate):\n",
    "    mutated_population = []\n",
    "    for permutation in offspring_population:\n",
    "        if random.random() < mutation_rate:  # Apply mutation with a probability of mutation_rate\n",
    "            mutated_permutation = list(permutation)\n",
    "            index1, index2 = random.sample(range(len(permutation)), 2)  # Choose two random indices\n",
    "            mutated_permutation[index1], mutated_permutation[index2] = mutated_permutation[index2], mutated_permutation[index1]  # Swap the values at the chosen indices\n",
    "            mutated_population.append(mutated_permutation)\n",
    "        else:\n",
    "            mutated_population.append(permutation)\n",
    "    return mutated_population\n",
    "\n",
    "mutation_rate = 0.1\n",
    "mutated_offspring_population = mutation(offspring_population, mutation_rate)\n",
    "print(mutated_offspring_population)"
   ]
  },
  {
   "cell_type": "code",
   "execution_count": 6,
   "metadata": {},
   "outputs": [
    {
     "name": "stdout",
     "output_type": "stream",
     "text": [
      "[-4, -5, 7, 1, 1, 8, -1, 3, 4, 2, 11, 7, 4, 9, 7, 9]\n"
     ]
    }
   ],
   "source": [
    "# 6. Fitness Evaluation for the new individuals\n",
    "\n",
    "new_fitness_values = []\n",
    "for individual in mutated_offspring_population:\n",
    "    fitness = calculate_fitness(individual, weights)\n",
    "    new_fitness_values.append(fitness)\n",
    "    \n",
    "print(new_fitness_values)"
   ]
  },
  {
   "cell_type": "code",
   "execution_count": 7,
   "metadata": {},
   "outputs": [
    {
     "name": "stdout",
     "output_type": "stream",
     "text": [
      "[[4, 4, 1, 3], [2, 4, 1, 4], [4, 4, 1, 3], [2, 3, 1, 3], [1, 3, 2, 4], [3, 1, 2, 4], [3, 1, 1, 4], [2, 1, 3, 2], [4, 2, 4, 1], [4, 4, 1, 3], [1, 3, 3, 2], [2, 1, 3, 2], [1, 3, 2, 4], [3, 1, 1, 4], [3, 1, 2, 4], [3, 1, 2, 4]]\n"
     ]
    }
   ],
   "source": [
    "# 7. Form the new population\n",
    "\n",
    "def proportional_selection(population, fitness_values, num_survivors):\n",
    "    total_fitness = sum(fitness_values)\n",
    "    probabilities = [fitness / total_fitness for fitness in fitness_values]\n",
    "    survivors = random.choices(population, probabilities, k=num_survivors)\n",
    "    return survivors\n",
    "\n",
    "num_survivors = population_size\n",
    "\n",
    "new_population = proportional_selection(mutated_offspring_population, new_fitness_values, num_survivors)\n",
    "\n",
    "print(new_population)"
   ]
  },
  {
   "cell_type": "code",
   "execution_count": 8,
   "metadata": {},
   "outputs": [
    {
     "name": "stdout",
     "output_type": "stream",
     "text": [
      "Best solution:\n",
      "- - Q -\n",
      "Q - - -\n",
      "- - - Q\n",
      "- Q - -\n",
      "Total weight: 10\n"
     ]
    }
   ],
   "source": [
    "# 8. Start the genetic algorithm\n",
    "\n",
    "num_generations = 0\n",
    "best_solution = None\n",
    "best_fitness = -1\n",
    "max_iterations = 1000\n",
    "N = 4\n",
    "\n",
    "# Function to check constraints\n",
    "def check_constraints(solution, N):\n",
    "    # Constraint 1: Exactly one queen in each row and column\n",
    "    if len(set(solution)) != N:\n",
    "        return False\n",
    "\n",
    "    # Constraint 2: No two queens should be placed in the same diagonal\n",
    "    for i in range(N):\n",
    "        for j in range(i + 1, N):\n",
    "            if abs(i - j) == abs(solution[i] - solution[j]):\n",
    "                return False\n",
    "\n",
    "    return True\n",
    "\n",
    "\n",
    "while num_generations < max_iterations:\n",
    "    # Step 3: Selection\n",
    "    selected_population = roulette_selection(initial_population, fitness_values, roulette_size)\n",
    "\n",
    "    # Step 4: Crossover\n",
    "    offspring_population = []\n",
    "    for i in range(0, len(selected_population), 2):\n",
    "        parent1 = selected_population[i]\n",
    "        parent2 = selected_population[i + 1]\n",
    "        child1, child2 = crossover(parent1, parent2)\n",
    "        offspring_population.extend([child1, child2])\n",
    "\n",
    "    # Step 5: Mutation\n",
    "    mutation_rate = 0.1\n",
    "    mutated_offspring_population = mutation(offspring_population, mutation_rate)\n",
    "\n",
    "    # Step 6: Fitness Evaluation for the new individuals\n",
    "    new_fitness_values = []\n",
    "    for individual in mutated_offspring_population:\n",
    "        fitness = calculate_fitness(individual, weights)\n",
    "        new_fitness_values.append(fitness)\n",
    "\n",
    "    # Step 7: Form the new population\n",
    "    num_survivors = population_size\n",
    "    new_population = proportional_selection(mutated_offspring_population, new_fitness_values, num_survivors)\n",
    "\n",
    "    # Check for the best solution\n",
    "    best_index = new_fitness_values.index(max(new_fitness_values))\n",
    "    if new_fitness_values[best_index] > best_fitness:\n",
    "        # Verify the solution for constraints\n",
    "        if check_constraints(new_population[best_index], N):\n",
    "            best_fitness = new_fitness_values[best_index]\n",
    "            best_solution = new_population[best_index]\n",
    "\n",
    "    num_generations += 1\n",
    "\n",
    "    # Termination condition\n",
    "    if best_fitness == sum([weights[i][i] for i in range(N)]):\n",
    "        break\n",
    "\n",
    "# 9. Best solution\n",
    "total_weight = 0\n",
    "if best_solution:\n",
    "    print(\"Best solution:\")\n",
    "    for i in range(N):\n",
    "        row = [\"-\" for _ in range(N)]\n",
    "        row[best_solution[i] - 1] = \"Q\"\n",
    "        print(\" \".join(row))\n",
    "        total_weight += weights[i][best_solution[i] - 1]\n",
    "    print(\"Total weight: \" + str(total_weight))\n",
    "else:\n",
    "    print(\"No solution found.\")"
   ]
  },
  {
   "cell_type": "code",
   "execution_count": null,
   "metadata": {},
   "outputs": [],
   "source": []
  }
 ],
 "metadata": {
  "kernel_info": {
   "name": "python"
  },
  "kernelspec": {
   "display_name": "Python 3 (ipykernel)",
   "language": "python",
   "name": "python3"
  },
  "language_info": {
   "codemirror_mode": {
    "name": "ipython",
    "version": 3
   },
   "file_extension": ".py",
   "mimetype": "text/x-python",
   "name": "python",
   "nbconvert_exporter": "python",
   "pygments_lexer": "ipython3",
   "version": "3.9.16"
  },
  "nteract": {
   "version": "nteract-front-end@1.0.0"
  }
 },
 "nbformat": 4,
 "nbformat_minor": 2
}
